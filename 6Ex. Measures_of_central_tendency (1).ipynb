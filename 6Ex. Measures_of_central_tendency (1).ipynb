{
 "cells": [
  {
   "cell_type": "markdown",
   "metadata": {},
   "source": [
    "### Exercise - Measures of Central Tendencies"
   ]
  },
  {
   "cell_type": "markdown",
   "metadata": {},
   "source": [
    "#### 1. We saw that a dataset can have more than one mode. But can a dataset have more than one median? True or False"
   ]
  },
  {
   "cell_type": "markdown",
   "metadata": {},
   "source": [
    "False"
   ]
  },
  {
   "cell_type": "markdown",
   "metadata": {},
   "source": [
    "#### 1.2. What is the range, mean, median, and mode of the dataset."
   ]
  },
  {
   "cell_type": "code",
   "execution_count": 8,
   "metadata": {},
   "outputs": [
    {
     "name": "stdout",
     "output_type": "stream",
     "text": [
      "mean is:  6.72\n",
      "median is:  7\n",
      "mode is:  7\n",
      "range is:  6\n"
     ]
    }
   ],
   "source": [
    "data = [4,  7,  5,  9,  8,  6,  7,  7,  8,  5,  6,  9,  8, 5,  8,  7,  4,  7, 3,  6,  8,  9,  7,  6,  9]\n",
    "\n",
    "import statistics as stats\n",
    "print(\"mean is: \",stats.mean(data))\n",
    "print(\"median is: \",stats.median(data))\n",
    "print(\"mode is: \",stats.mode(data))\n",
    "print(\"range is: \",data_range)"
   ]
  },
  {
   "cell_type": "code",
   "execution_count": 9,
   "metadata": {},
   "outputs": [
    {
     "name": "stdout",
     "output_type": "stream",
     "text": [
      "{'mean': 6.72, 'median': 7, 'mode': 7}\n"
     ]
    }
   ],
   "source": [
    "data_dictionary = {}\n",
    "\n",
    "data_dictionary[\"mean\"] = stats.mean(data)\n",
    "data_dictionary[\"median\"] = stats.median(data)\n",
    "data_dictionary[\"mode\"] = stats.mode(data)\n",
    "\n",
    "print(data_dictionary)"
   ]
  },
  {
   "cell_type": "markdown",
   "metadata": {},
   "source": [
    "#### 1.3. To find which statistic do you have to arrange the data in an ascending order?"
   ]
  },
  {
   "cell_type": "markdown",
   "metadata": {},
   "source": [
    "To find the median"
   ]
  },
  {
   "cell_type": "markdown",
   "metadata": {},
   "source": [
    "#### 1.4. How do you find the median when there are even number of data points?"
   ]
  },
  {
   "cell_type": "markdown",
   "metadata": {},
   "source": [
    "Adding the two data points from the middle and dividing it bt two"
   ]
  },
  {
   "cell_type": "markdown",
   "metadata": {},
   "source": [
    "#### 1.5. What are outliers in a dataset? Which of the three - Mean, Median, and Mode - is more susceptible to change with presence of outliers in the data?"
   ]
  },
  {
   "cell_type": "markdown",
   "metadata": {},
   "source": [
    "- The outliers are subjective. I would say \"3\" is the outlier because because there is only one and it is an extreme\n",
    "- Mean is more susceptible to changes with the presence of outliers in the data "
   ]
  }
 ],
 "metadata": {
  "kernelspec": {
   "display_name": "Python 3",
   "language": "python",
   "name": "python3"
  },
  "language_info": {
   "codemirror_mode": {
    "name": "ipython",
    "version": 3
   },
   "file_extension": ".py",
   "mimetype": "text/x-python",
   "name": "python",
   "nbconvert_exporter": "python",
   "pygments_lexer": "ipython3",
   "version": "3.8.5"
  }
 },
 "nbformat": 4,
 "nbformat_minor": 4
}
