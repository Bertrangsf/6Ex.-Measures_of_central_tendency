{
 "cells": [
  {
   "cell_type": "markdown",
   "metadata": {},
   "source": [
    "### Excercise Notebook"
   ]
  },
  {
   "cell_type": "markdown",
   "metadata": {},
   "source": [
    "#### 1. We saw that a dataset can have more than one mode. But can a dataset have more than one median? True or False"
   ]
  },
  {
   "cell_type": "markdown",
   "metadata": {},
   "source": [
    "False"
   ]
  },
  {
   "cell_type": "markdown",
   "metadata": {},
   "source": [
    "#### 2. What is the range, mean, median, and mode of the dataset."
   ]
  },
  {
   "cell_type": "code",
   "execution_count": 1,
   "metadata": {},
   "outputs": [
    {
     "name": "stdout",
     "output_type": "stream",
     "text": [
      "range is:  6\n",
      "mean is:  6.72\n",
      "median is:  7\n",
      "mode is:  7\n",
      "range is:  6\n"
     ]
    }
   ],
   "source": [
    "data = [4,  7,  5,  9,  8,  6,  7,  7,  8,  5,  6,  9,  8, 5,  8,  7,  4,  7, 3,  6,  8,  9,  7,  6,  9]\n",
    "\n",
    "data_range = max(data)-min(data)\n",
    "print(\"range is: \",data_range)\n",
    "import statistics as stats\n",
    "print(\"mean is: \",stats.mean(data))\n",
    "print(\"median is: \",stats.median(data))\n",
    "print(\"mode is: \",stats.mode(data))\n",
    "print(\"range is: \",data_range)"
   ]
  },
  {
   "cell_type": "code",
   "execution_count": 2,
   "metadata": {},
   "outputs": [
    {
     "name": "stdout",
     "output_type": "stream",
     "text": [
      "{'mean': 6.72, 'median': 7, 'mode': 7, 'range': 6}\n"
     ]
    }
   ],
   "source": [
    "data_dictionary = {}\n",
    "\n",
    "data_dictionary[\"mean\"] = stats.mean(data)\n",
    "data_dictionary[\"median\"] = stats.median(data)\n",
    "data_dictionary[\"mode\"] = stats.mode(data)\n",
    "data_dictionary[\"range\"] = max(data)-min(data)\n",
    "\n",
    "print(data_dictionary)"
   ]
  },
  {
   "cell_type": "markdown",
   "metadata": {},
   "source": [
    "#### 3. To find which statistic do you have to arrange the data in an ascending order?"
   ]
  },
  {
   "cell_type": "markdown",
   "metadata": {},
   "source": [
    "To find the median"
   ]
  },
  {
   "cell_type": "markdown",
   "metadata": {},
   "source": [
    "#### 4. How do you find the median when there are even number of data points?"
   ]
  },
  {
   "cell_type": "markdown",
   "metadata": {},
   "source": [
    "Adding the two data points from the middle and dividing it bt two"
   ]
  },
  {
   "cell_type": "markdown",
   "metadata": {},
   "source": [
    "#### 5. What is the range for the data set"
   ]
  },
  {
   "cell_type": "code",
   "execution_count": 3,
   "metadata": {},
   "outputs": [
    {
     "name": "stdout",
     "output_type": "stream",
     "text": [
      "29\n"
     ]
    }
   ],
   "source": [
    "points = [-4,  17,  25,  19,  6,  11,  7]\n",
    "points_range = max(points)-min(points)\n",
    "print(points_range)"
   ]
  },
  {
   "cell_type": "markdown",
   "metadata": {},
   "source": [
    "####  6. What are outliers in a dataset? Which of the three - Mean, Median, and Mode - is more suseptible to change with presence of outliers in the data?"
   ]
  },
  {
   "cell_type": "markdown",
   "metadata": {},
   "source": [
    "- The outliers are subjective. I would say \"-4\" is the outlier because there are no negative data appart from that one. The other option is \"25\"\n",
    "- Mean is more susceptible to changes with the presence of outliers in the data "
   ]
  },
  {
   "cell_type": "markdown",
   "metadata": {},
   "source": [
    "### Excercise - Measures of Dispersion"
   ]
  },
  {
   "cell_type": "markdown",
   "metadata": {},
   "source": [
    "#### 1.1 What is the range for the data set?"
   ]
  },
  {
   "cell_type": "code",
   "execution_count": 4,
   "metadata": {},
   "outputs": [
    {
     "name": "stdout",
     "output_type": "stream",
     "text": [
      "29\n"
     ]
    }
   ],
   "source": [
    "points = [-4,  17,  25,  19,  6,  11,  7]\n",
    "points_range = max(points)-min(points)\n",
    "print(points_range)"
   ]
  },
  {
   "cell_type": "markdown",
   "metadata": {},
   "source": [
    "#### 1.2 Given the following dataset, How does the standard deviation change when 6 is replaced with 12? Does it increase, or decrease, or it remains the same?"
   ]
  },
  {
   "cell_type": "code",
   "execution_count": 5,
   "metadata": {},
   "outputs": [
    {
     "name": "stdout",
     "output_type": "stream",
     "text": [
      "the standard deviation increase\n"
     ]
    }
   ],
   "source": [
    "data = [2,4,7,1,6,8]\n",
    "modified_data = [2,4,7,1,12,8]\n",
    "\n",
    "import statistics as stats\n",
    "\n",
    "if stats.stdev(data) > stats.stdev(modified_data):\n",
    "    print(\"the standard deviation decrease\")\n",
    "\n",
    "elif stats.stdev(data) < stats.stdev(modified_data):\n",
    "    print(\"the standard deviation increase\")"
   ]
  },
  {
   "cell_type": "markdown",
   "metadata": {},
   "source": [
    "#### 1.3 Is is possible to have a dataset with 0 standard deviation or variance? If yes, can you think of any dataset with 6 data points that have 0 standard deviation?"
   ]
  },
  {
   "cell_type": "code",
   "execution_count": 6,
   "metadata": {},
   "outputs": [
    {
     "data": {
      "text/plain": [
       "0.0"
      ]
     },
     "execution_count": 6,
     "metadata": {},
     "output_type": "execute_result"
    }
   ],
   "source": [
    "# YES\n",
    "dataset_No_Variance = [1,1,1,1,1,1]\n",
    "stats.stdev(dataset_No_Variance)"
   ]
  },
  {
   "cell_type": "markdown",
   "metadata": {},
   "source": [
    "#### 1.4 We know that standard deviation is a measure of spread in the dataset. What is meant by deviation here? What is the formula for calculating deviation? Can deviation be negative?"
   ]
  },
  {
   "cell_type": "markdown",
   "metadata": {},
   "source": [
    "- Deviation is the dispersion of the data in the database\n",
    "- statistics.stdev(database)\n",
    "- NO"
   ]
  },
  {
   "cell_type": "markdown",
   "metadata": {},
   "source": [
    "#### 1.5 Given the dataset in the list: What is the deviation from the mean for each of the points in the list? Write a for loop and print each of the values"
   ]
  },
  {
   "cell_type": "code",
   "execution_count": 7,
   "metadata": {},
   "outputs": [
    {
     "name": "stdout",
     "output_type": "stream",
     "text": [
      "Deviation for item:  23 is:  -18.5\n",
      "Deviation for item:  12 is:  -29.5\n",
      "Deviation for item:  34 is:  -7.5\n",
      "Deviation for item:  65 is:  23.5\n",
      "Deviation for item:  34 is:  -7.5\n",
      "Deviation for item:  81 is:  39.5\n"
     ]
    }
   ],
   "source": [
    "data = [23, 12, 34, 65, 34, 81]\n",
    "for item in data:\n",
    "    print(\"Deviation for item: \", item, \"is: \", item - stats.mean(data))"
   ]
  },
  {
   "cell_type": "markdown",
   "metadata": {},
   "source": [
    "#### 1.6 How is standard deviation different than variance?"
   ]
  },
  {
   "cell_type": "markdown",
   "metadata": {},
   "source": [
    "Variance is the average squared deviations from the mean, while standard deviation is the square root of this number. Both measures reflect variability in a distribution, but their units differ: Standard deviation is expressed in the same units as the original values (e.g., minutes or meters)."
   ]
  },
  {
   "cell_type": "code",
   "execution_count": null,
   "metadata": {},
   "outputs": [],
   "source": []
  }
 ],
 "metadata": {
  "kernelspec": {
   "display_name": "Python 3",
   "language": "python",
   "name": "python3"
  },
  "language_info": {
   "codemirror_mode": {
    "name": "ipython",
    "version": 3
   },
   "file_extension": ".py",
   "mimetype": "text/x-python",
   "name": "python",
   "nbconvert_exporter": "python",
   "pygments_lexer": "ipython3",
   "version": "3.8.5"
  }
 },
 "nbformat": 4,
 "nbformat_minor": 4
}
